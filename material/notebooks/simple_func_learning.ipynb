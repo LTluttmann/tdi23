{
 "cells": [
  {
   "cell_type": "code",
   "execution_count": 1,
   "id": "8f848c38",
   "metadata": {},
   "outputs": [],
   "source": [
    "import torch\n",
    "import torch.nn as nn\n",
    "import torch.optim as optim"
   ]
  },
  {
   "cell_type": "code",
   "execution_count": 2,
   "id": "bb4fddba",
   "metadata": {},
   "outputs": [],
   "source": [
    "# Define a simple one neuron NN\n",
    "class SingleNeuronNN(nn.Module):\n",
    "    def __init__(self):\n",
    "        super(SingleNeuronNN, self).__init__()\n",
    "        self.linear = nn.Linear(1, 1, bias=True)\n",
    "\n",
    "    def forward(self, x):\n",
    "        return self.linear(x)"
   ]
  },
  {
   "cell_type": "code",
   "execution_count": 3,
   "id": "a4081757",
   "metadata": {},
   "outputs": [],
   "source": [
    "x = torch.arange(0, 1000, 1, dtype=torch.float32).view(-1,1)\n",
    "x = (x - x.mean()) / x.std()\n",
    "ind = torch.randperm(len(x))\n",
    "x = x[ind]\n",
    "y = (x * 5 + 1)"
   ]
  },
  {
   "cell_type": "code",
   "execution_count": 4,
   "id": "e87cd027",
   "metadata": {},
   "outputs": [
    {
     "name": "stdout",
     "output_type": "stream",
     "text": [
      "Epoch [1000/10000], Loss: 0.5702\n",
      "Epoch [2000/10000], Loss: 0.0104\n",
      "Epoch [3000/10000], Loss: 0.0002\n",
      "Epoch [4000/10000], Loss: 0.0000\n",
      "Epoch [5000/10000], Loss: 0.0000\n",
      "Epoch [6000/10000], Loss: 0.0000\n",
      "Epoch [7000/10000], Loss: 0.0000\n",
      "Epoch [8000/10000], Loss: 0.0000\n",
      "Epoch [9000/10000], Loss: 0.0000\n",
      "Epoch [10000/10000], Loss: 0.0000\n"
     ]
    }
   ],
   "source": [
    "# Initialize the model\n",
    "model = SingleNeuronNN()\n",
    "\n",
    "# Define binary cross-entropy loss and optimizer\n",
    "criterion = nn.MSELoss()\n",
    "optimizer = optim.SGD(model.parameters(), lr=0.001)\n",
    "\n",
    "# Training loop\n",
    "num_epochs = 10000\n",
    "for epoch in range(num_epochs):\n",
    "    # Forward pass\n",
    "    outputs = model(x)\n",
    "    \n",
    "    # Compute loss\n",
    "    loss = criterion(y, outputs)\n",
    "    \n",
    "    # Backpropagation and optimization\n",
    "    optimizer.zero_grad()\n",
    "    loss.backward()\n",
    "    optimizer.step()\n",
    "    \n",
    "    if (epoch + 1) % 1000 == 0:\n",
    "        print(f'Epoch [{epoch+1}/{num_epochs}], Loss: {loss.item():.4f}')"
   ]
  },
  {
   "cell_type": "code",
   "execution_count": 5,
   "id": "b200d4ce",
   "metadata": {},
   "outputs": [],
   "source": [
    "params = []\n",
    "for param in model.parameters():\n",
    "    params.append(round(param.item(),1))"
   ]
  },
  {
   "cell_type": "code",
   "execution_count": 6,
   "id": "78e3e125",
   "metadata": {},
   "outputs": [
    {
     "data": {
      "text/markdown": [
       "# $ y=5.0 \\cdot x + 1.0 $"
      ],
      "text/plain": [
       "<IPython.core.display.Markdown object>"
      ]
     },
     "execution_count": 6,
     "metadata": {},
     "output_type": "execute_result"
    }
   ],
   "source": [
    "from IPython.display import display, Markdown\n",
    "Markdown('# $ y=%s \\cdot x + %s $' % tuple(params))"
   ]
  }
 ],
 "metadata": {
  "kernelspec": {
   "display_name": "Python 3 (ipykernel)",
   "language": "python",
   "name": "python3"
  },
  "language_info": {
   "codemirror_mode": {
    "name": "ipython",
    "version": 3
   },
   "file_extension": ".py",
   "mimetype": "text/x-python",
   "name": "python",
   "nbconvert_exporter": "python",
   "pygments_lexer": "ipython3",
   "version": "3.9.13"
  }
 },
 "nbformat": 4,
 "nbformat_minor": 5
}
