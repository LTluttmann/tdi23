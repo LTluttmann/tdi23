{
 "cells": [
  {
   "cell_type": "code",
   "execution_count": 37,
   "id": "62cb369b",
   "metadata": {},
   "outputs": [],
   "source": [
    "import numpy as np\n",
    "import matplotlib.pyplot as plt\n",
    "import math"
   ]
  },
  {
   "cell_type": "markdown",
   "id": "1f8209fc",
   "metadata": {},
   "source": [
    "Schauen wir uns unser trainiertes neuronales Netz genauer an. Das Netz kann im Output-Layer die Daten perfekt klassifizieren, obwohl die Daten nicht durch eine gerade Linie zu trennen sind. Dies wird durch die 3 Neuronen ermöglicht, die wir im \"Hidden Layer\" hinzugefügt haben:\n",
    "\n",
    "---\n",
    "\n",
    "<div>\n",
    "<img src=\"../trained_net.png\" width=\"800\"/>\n",
    "</div>\n",
    "\n",
    "---\n",
    "\n",
    "Jedes Neuron lernt eine separate Klassifizierung mittels einer linearen Gerade! Schauen wir uns das Ergebnis des ersten Neurons genauer an: Es prüft, ob sich ein Datenpunkt in der oberen Rechten Ecke befindet oder nicht. \n",
    "\n",
    "Das zweite Neuron dagegen prüft, ob sich ein Datenpunkt in der oberen oder unteren Hälfte befindet\n",
    "\n",
    "Und schließloch prüft das dritte Neuron, ob sich ein Datenpunkt in der linken Hälfte befindet\n",
    "\n",
    "### Wichtig: Eure trainierten Netze können etwas anders aussehen!\n",
    "\n",
    "---\n",
    "\n",
    "<div>\n",
    "<img src=\"../1.neuron.png\" width=\"800\"/>\n",
    "</div>\n",
    "\n",
    "---\n",
    "\n",
    "Wenn wir diese Drei Geraden übereinander legen, kommen wir schon sehr nah an den finalen Output...Denn genau das ist es, was im Output Layer passiert. Die vorherigen Neuronen werden als Input (sog. *Features*) verwendet, um die Klassifizierung durchzuführen.\n",
    "\n",
    "#### Das wollen wir uns genauer anschauen:"
   ]
  },
  {
   "cell_type": "markdown",
   "id": "c3781843",
   "metadata": {},
   "source": [
    "# Aufgabe:\n",
    "\n",
    "Versuche, den Output des neuronalen Netzes anhand der 3 Neuronen nachzuvollziehen. \n",
    "\n",
    "Nutze dafür die Tanh-Funktion unten, da diese häufig bei Klassifikations-Aufgaben und auch bei unserem Modell zum Einsatz kommt. \n",
    "\n",
    "Denke dran, ein orangener Output im Neuron steht für eine -1, ein blauer Output für eine +1\n",
    "\n",
    "Zudem kannst du die gelernten Gewichte zwischen Hidden- und Output-Layer sehen indem du den Mauszeiger darüber hälst:\n",
    "\n",
    "\n",
    "--- \n",
    "\n",
    "<div>\n",
    "<img src=\"../gewicht.png\" width=\"800\"/>\n",
    "</div>\n",
    "\n",
    "---\n",
    "\n",
    "Die Rechnung ist dann:\n",
    "\n",
    "$z = Tanh(n_1 * w_1 + n_2 * w_2 + n_3 * w_3$),\n",
    "\n",
    "wobei $n_1$ den Output des ersten Neurons darstellt und $w_1$ das dazugehörige Gewicht\n",
    "\n"
   ]
  },
  {
   "cell_type": "code",
   "execution_count": 38,
   "id": "726644e8",
   "metadata": {},
   "outputs": [],
   "source": [
    "BIAS = 0\n",
    "def Tanh(x):\n",
    "    x = x + BIAS\n",
    "    output = (np.exp(x) - np.exp(-x)) / (np.exp(x) + np.exp(-x))\n",
    "    return output"
   ]
  },
  {
   "cell_type": "code",
   "execution_count": 39,
   "id": "d7ab3e52",
   "metadata": {},
   "outputs": [
    {
     "data": {
      "image/png": "[encoded data removed]",
      "text/plain": [
       "<Figure size 640x480 with 1 Axes>"
      ]
     },
     "metadata": {},
     "output_type": "display_data"
    }
   ],
   "source": [
    "X=np.linspace(-10,10,100); plt.plot(X, [Tanh(x) for x in X]); plt.grid(); plt.title(\"Die Tanh Funtion\");"
   ]
  },
  {
   "cell_type": "markdown",
   "id": "09db0f5a",
   "metadata": {},
   "source": [
    "Schreibe zuerst die Gewicht auf. Hinweis: Kommazahlen schreibt man in Python mit einem Punkt, also z.B. 4.2"
   ]
  },
  {
   "cell_type": "code",
   "execution_count": 50,
   "id": "434218fd",
   "metadata": {},
   "outputs": [],
   "source": [
    "w_1 = ?\n",
    "w_2 = ?\n",
    "w_3 = ?"
   ]
  },
  {
   "cell_type": "code",
   "execution_count": 51,
   "id": "b25f5f19",
   "metadata": {},
   "outputs": [],
   "source": [
    "# some internal correction parameter\n",
    "BIAS = - 2 * np.mean([np.abs(y) for y in [w_1, w_2, w_3]])"
   ]
  },
  {
   "cell_type": "markdown",
   "id": "2fa5b694",
   "metadata": {},
   "source": [
    "Suche dir einen Datenpunkt und schreibe die Neuronen Outputs auf. Denke dran, ein oranger output im Neuron steht für eine -1, ein blauer Output für eine +1:"
   ]
  },
  {
   "cell_type": "code",
   "execution_count": 52,
   "id": "f471b455",
   "metadata": {},
   "outputs": [],
   "source": [
    "n_1 = ?\n",
    "n_2 = ?\n",
    "n_3 = ?"
   ]
  },
  {
   "cell_type": "markdown",
   "id": "a0d57984",
   "metadata": {},
   "source": [
    "Bilde das Summenprodukt und setze es in die Tanh-Funktion ein. Was beobachtes du? Wie passt das zum Ergebnis deines neuronalen Netzes?"
   ]
  },
  {
   "cell_type": "code",
   "execution_count": 53,
   "id": "d3ae5865",
   "metadata": {},
   "outputs": [
    {
     "data": {
      "text/plain": [
       "-0.98367485769368"
      ]
     },
     "execution_count": 53,
     "metadata": {},
     "output_type": "execute_result"
    }
   ],
   "source": [
    "output = Tanh(...)\n"
   ]
  },
  {
   "cell_type": "markdown",
   "id": "1dda0cff",
   "metadata": {},
   "source": [
    "vervollständige den Code um eine Entscheidung zu treffen, ob ein Punkt als Blau oder als Orange klassifiziert werden soll: Stimmt der Output?"
   ]
  },
  {
   "cell_type": "code",
   "execution_count": null,
   "id": "b0b529ba",
   "metadata": {},
   "outputs": [],
   "source": [
    "if output > ...:\n",
    "    print(\"Point is Blue!\")\n",
    "else:\n",
    "    print(\"Point is Orange\")"
   ]
  }
 ],
 "metadata": {
  "kernelspec": {
   "display_name": "Python 3 (ipykernel)",
   "language": "python",
   "name": "python3"
  },
  "language_info": {
   "codemirror_mode": {
    "name": "ipython",
    "version": 3
   },
   "file_extension": ".py",
   "mimetype": "text/x-python",
   "name": "python",
   "nbconvert_exporter": "python",
   "pygments_lexer": "ipython3",
   "version": "3.9.13"
  }
 },
 "nbformat": 4,
 "nbformat_minor": 5
}
